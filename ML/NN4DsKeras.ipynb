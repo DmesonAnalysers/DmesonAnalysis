{
 "cells": [
  {
   "attachments": {},
   "cell_type": "markdown",
   "id": "2ad62b39-c9a6-4c38-81f0-faf97129d30b",
   "metadata": {},
   "source": [
    "# Fully connected NN for D_s^+ analysis"
   ]
  },
  {
   "cell_type": "code",
   "execution_count": 1,
   "id": "5cdfb858-0fd4-4ba2-9a11-9adf74a8a143",
   "metadata": {},
   "outputs": [
    {
     "name": "stderr",
     "output_type": "stream",
     "text": [
      "2023-07-16 07:58:05.428135: I tensorflow/core/platform/cpu_feature_guard.cc:182] This TensorFlow binary is optimized to use available CPU instructions in performance-critical operations.\n",
      "To enable the following instructions: AVX2 FMA, in other operations, rebuild TensorFlow with the appropriate compiler flags.\n",
      "2023-07-16 07:58:06.008194: W tensorflow/compiler/tf2tensorrt/utils/py_utils.cc:38] TF-TRT Warning: Could not find TensorRT\n"
     ]
    },
    {
     "name": "stdout",
     "output_type": "stream",
     "text": [
      "GPU is available! ( [PhysicalDevice(name='/physical_device:CPU:0', device_type='CPU'), PhysicalDevice(name='/physical_device:GPU:0', device_type='GPU')] )\n"
     ]
    },
    {
     "name": "stderr",
     "output_type": "stream",
     "text": [
      "Failed to load image Python extension: /home/fchinu/.virtualenv/ml/lib/python3.8/site-packages/torchvision/image.so: undefined symbol: _ZNK3c1010TensorImpl36is_contiguous_nondefault_policy_implENS_12MemoryFormatE\n"
     ]
    }
   ],
   "source": [
    "# Use Python 3.8.10 on UNITO HPC4AI MLJC computing node - Tensorflow supporting GPU with libcudart.so.10.1\n",
    "import numpy as np\n",
    "np.random.seed(19)\n",
    "\n",
    "import scipy as sp\n",
    "from scipy.io import loadmat\n",
    "#from scipy.fft import *\n",
    "#from scipy.signal import convolve2d\n",
    "\n",
    "import pandas as pd\n",
    "import pickle\n",
    "\n",
    "import tensorflow as tf\n",
    "from tensorflow.keras import regularizers\n",
    "import keras\n",
    "import keras_tuner\n",
    "import visualkeras\n",
    "from keras.models import Sequential\n",
    "from keras.layers import Conv1D, MaxPooling1D, Flatten, Dense\n",
    "\n",
    "import sklearn as sk\n",
    "from sklearn.model_selection import train_test_split\n",
    "from sklearn.model_selection import LeaveOneOut\n",
    "from sklearn.model_selection import KFold\n",
    "from sklearn.metrics import roc_curve\n",
    "from sklearn.metrics import roc_auc_score\n",
    "from sklearn import preprocessing\n",
    "\n",
    "from matplotlib import pyplot as plt\n",
    "\n",
    "import os\n",
    "import sys\n",
    "import argparse\n",
    "import pickle\n",
    "import yaml\n",
    "\n",
    "from hipe4ml import plot_utils\n",
    "from hipe4ml.tree_handler import TreeHandler\n",
    "\n",
    "#import seaborn as sb\n",
    "#import plotly.express as px\n",
    "\n",
    "if tf.config.list_physical_devices('GPU'):\n",
    "    print('GPU is available! (', tf.config.list_physical_devices(), \")\")\n",
    "else:\n",
    "    print('GPU not properly loaded! Training is going to run on CPU')"
   ]
  },
  {
   "attachments": {},
   "cell_type": "markdown",
   "id": "59925119",
   "metadata": {},
   "source": [
    "### Data preparation"
   ]
  },
  {
   "cell_type": "code",
   "execution_count": null,
   "id": "d36b3ed8",
   "metadata": {},
   "outputs": [],
   "source": [
    "def data_prep(inputCfg, iBin, PtBin, OutPutDirPt, PromptDf, FDDf, BkgDf): #pylint: disable=too-many-statements, too-many-branches\n",
    "    '''\n",
    "    function for data preparation\n",
    "    '''\n",
    "    nPrompt = len(PromptDf)\n",
    "    nFD = len(FDDf)\n",
    "    nBkg = len(BkgDf)\n",
    "    if FDDf.empty:\n",
    "        out = f'\\n     Signal: {nPrompt}\\n     Bkg: {nBkg}'\n",
    "    else:\n",
    "        out = f'\\n     Prompt: {nPrompt}\\n     FD: {nFD}\\n     Bkg: {nBkg}'\n",
    "    print(f'Number of available candidates in {PtBin[0]} < pT < {PtBin[1]} GeV/c:{out}')\n",
    "\n",
    "    dataset_opt = inputCfg['data_prep']['dataset_opt']\n",
    "    seed_split = inputCfg['data_prep']['seed_split']\n",
    "    test_f = inputCfg['data_prep']['test_fraction']\n",
    "\n",
    "    if dataset_opt == 'equal':\n",
    "        if FDDf.empty:\n",
    "            nCandToKeep = min([nPrompt, nBkg])\n",
    "            out = 'signal'\n",
    "            out2 = 'signal'\n",
    "        else:\n",
    "            nCandToKeep = min([nPrompt, nFD, nBkg])\n",
    "            out = 'prompt, FD'\n",
    "            out2 = 'prompt'\n",
    "        print((f'Keep same number of {out} and background (minimum) for training and '\n",
    "               f'testing ({1 - test_f}-{test_f}): {nCandToKeep}'))\n",
    "        print(f'Fraction of real data candidates used for ML: {nCandToKeep/nBkg:.5f}')\n",
    "\n",
    "        if nPrompt > nCandToKeep:\n",
    "            print((f'Remaining {out2} candidates ({nPrompt - nCandToKeep})'\n",
    "                   'will be used for the efficiency together with test set'))\n",
    "        if nFD > nCandToKeep:\n",
    "            print((f'Remaining FD candidates ({nFD - nCandToKeep}) will be used for the '\n",
    "                   'efficiency together with test set'))\n",
    "\n",
    "        TotDf = pd.concat([BkgDf.iloc[:nCandToKeep], PromptDf.iloc[:nCandToKeep], FDDf.iloc[:nCandToKeep]], sort=True)\n",
    "        if FDDf.empty:\n",
    "            LabelsArray = np.array([0]*nCandToKeep + [1]*nCandToKeep)\n",
    "        else:\n",
    "            LabelsArray = np.array([0]*nCandToKeep + [1]*nCandToKeep + [2]*nCandToKeep)\n",
    "        if test_f < 1:\n",
    "            TrainSet, TestSet, yTrain, yTest = train_test_split(TotDf, LabelsArray, test_size=test_f,\n",
    "                                                                random_state=seed_split)\n",
    "        else:\n",
    "            TrainSet = pd.DataFrame()\n",
    "            TestSet = TotDf.copy()\n",
    "            yTrain = pd.Series()\n",
    "            yTest = LabelsArray.copy()\n",
    "\n",
    "        TrainTestData = [TrainSet, yTrain, TestSet, yTest]\n",
    "        PromptDfSelForEff = pd.concat([PromptDf.iloc[nCandToKeep:], TestSet[pd.Series(yTest).array == 1]], sort=False)\n",
    "        if FDDf.empty:\n",
    "            FDDfSelForEff = pd.DataFrame()\n",
    "        else:\n",
    "            FDDfSelForEff = pd.concat([FDDf.iloc[nCandToKeep:], TestSet[pd.Series(yTest).array == 2]], sort=False)\n",
    "        del TotDf\n",
    "\n",
    "    elif dataset_opt == 'max_signal':\n",
    "        nCandBkg = round(inputCfg['data_prep']['bkg_mult'][iBin] * (nPrompt + nFD))\n",
    "        out = 'signal' if FDDf.empty else 'prompt and FD'\n",
    "        print((f'Keep all {out} and use {nCandBkg} bkg candidates for training and '\n",
    "               f'testing ({1 - test_f}-{test_f})'))\n",
    "        if nCandBkg >= nBkg:\n",
    "            nCandBkg = nBkg\n",
    "            print('\\033[93mWARNING: using all bkg available, not good!\\033[0m')\n",
    "        print(f'Fraction of real data candidates used for ML: {nCandBkg/nBkg:.5f}')\n",
    "\n",
    "        TotDf = pd.concat([BkgDf.iloc[:nCandBkg], PromptDf, FDDf], sort=True)\n",
    "        if FDDf.empty:\n",
    "            LabelsArray = np.array([0]*nCandBkg + [1]*nPrompt)\n",
    "        else:\n",
    "            LabelsArray = np.array([0]*nCandBkg + [1]*nPrompt + [2]*nFD)\n",
    "        if test_f < 1:\n",
    "            TrainSet, TestSet, yTrain, yTest = train_test_split(TotDf, LabelsArray, test_size=test_f,\n",
    "                                                                random_state=seed_split)\n",
    "        else:\n",
    "            TrainSet = pd.DataFrame()\n",
    "            TestSet = TotDf.copy()\n",
    "            yTrain = pd.Series()\n",
    "            yTest = LabelsArray.copy()\n",
    "\n",
    "        TrainTestData = [TrainSet, yTrain, TestSet, yTest]\n",
    "        PromptDfSelForEff = TestSet[pd.Series(yTest).array == 1]\n",
    "        FDDfSelForEff = pd.DataFrame() if FDDf.empty else TestSet[pd.Series(yTest).array == 2]\n",
    "        del TotDf\n",
    "\n",
    "    else:\n",
    "        print(f'\\033[91mERROR: {dataset_opt} is not a valid option!\\033[0m')\n",
    "        sys.exit()\n",
    "\n",
    "    # plots\n",
    "    VarsToDraw = inputCfg['plots']['plotting_columns']\n",
    "    LegLabels = [inputCfg['output']['leg_labels']['Bkg'],\n",
    "                 inputCfg['output']['leg_labels']['Prompt']]\n",
    "    if inputCfg['output']['leg_labels']['FD'] is not None:\n",
    "        LegLabels.append(inputCfg['output']['leg_labels']['FD'])\n",
    "    OutputLabels = [inputCfg['output']['out_labels']['Bkg'],\n",
    "                    inputCfg['output']['out_labels']['Prompt']]\n",
    "    if inputCfg['output']['out_labels']['FD'] is not None:\n",
    "        OutputLabels.append(inputCfg['output']['out_labels']['FD'])\n",
    "    ListDf = [BkgDf, PromptDf] if FDDf.empty else [BkgDf, PromptDf, FDDf]\n",
    "    #_____________________________________________\n",
    "    plot_utils.plot_distr(ListDf, VarsToDraw, 100, LegLabels, figsize=(12, 7),\n",
    "                          alpha=0.3, log=True, grid=False, density=True)\n",
    "    plt.subplots_adjust(left=0.06, bottom=0.1, right=0.99, top=0.96, hspace=0.55, wspace=0.55)\n",
    "    plt.savefig(f'{OutPutDirPt}/DistributionsAll_pT_{PtBin[0]}_{PtBin[1]}.png')\n",
    "    plt.close('all')\n",
    "    Var=['cos_p', 'cos_p_xy', 'd_len', 'd_len_xy', 'norm_dl_xy', 'imp_par_xy', 'sig_vert','delta_mass_KK','nsigComb_K_1']\n",
    "\n",
    "    plot_utils.plot_distr(ListDf, Var, 100, LegLabels, figsize=(12, 7),\n",
    "                        alpha=0.3, log=True, grid=False, density=True)\n",
    "    plt.subplots_adjust(left=0.06, bottom=0.06, right=0.99, top=0.96, hspace=0.55, wspace=0.55)\n",
    "    plt.savefig(f'{OutPutDirPt}/Distributionsselected_{PtBin[0]}_{PtBin[1]}.png')\n",
    "    plt.close('all')\n",
    "    #_____________________________________________\n",
    "    CorrMatrixFig = plot_utils.plot_corr(ListDf, VarsToDraw, LegLabels)\n",
    "    for Fig, Lab in zip(CorrMatrixFig, OutputLabels):\n",
    "        plt.figure(Fig.number)\n",
    "        plt.subplots_adjust(left=0.2, bottom=0.25, right=0.95, top=0.9)\n",
    "        Fig.savefig(f'{OutPutDirPt}/CorrMatrix{Lab}_pT_{PtBin[0]}_{PtBin[1]}.pdf')\n",
    "\n",
    "    return TrainTestData, PromptDfSelForEff, FDDfSelForEff"
   ]
  },
  {
   "cell_type": "code",
   "execution_count": null,
   "id": "f9155b14",
   "metadata": {},
   "outputs": [],
   "source": [
    "cfgFileName = '/home/fchinu/DmesonAnalysis/ML/Config_NN.yml'\n",
    "\n",
    "print('Loading analysis configuration: ...', end='\\r')\n",
    "with open(cfgFileName, 'r') as ymlCfgFile:\n",
    "    inputCfg = yaml.load(ymlCfgFile, yaml.FullLoader)\n",
    "print('Loading analysis configuration: Done!')\n",
    "\n",
    "print('Loading and preparing data files: ...', end='\\r')\n",
    "PromptHandler = TreeHandler(inputCfg['input']['prompt'], inputCfg['input']['treename'])\n",
    "FDHandler = None if inputCfg['input']['FD'] is None else TreeHandler(inputCfg['input']['FD'],\n",
    "                                                                        inputCfg['input']['treename'])\n",
    "DataHandler = TreeHandler(inputCfg['input']['data'], inputCfg['input']['treename'])\n",
    "\n",
    "if inputCfg['data_prep']['filt_bkg_mass']:\n",
    "    BkgHandler = DataHandler.get_subset(inputCfg['data_prep']['filt_bkg_mass'], frac=1.,\n",
    "                                        rndm_state=inputCfg['data_prep']['seed_split'])\n",
    "else:\n",
    "    BkgHandler = DataHandler\n",
    "\n",
    "PtBins = [[a, b] for a, b in zip(inputCfg['pt_ranges']['min'], inputCfg['pt_ranges']['max'])]\n",
    "PromptHandler.slice_data_frame('pt_cand', PtBins, True)\n",
    "if FDHandler is not None:\n",
    "    FDHandler.slice_data_frame('pt_cand', PtBins, True)\n",
    "DataHandler.slice_data_frame('pt_cand', PtBins, True)\n",
    "BkgHandler.slice_data_frame('pt_cand', PtBins, True)\n",
    "print('Loading and preparing data files: Done!')\n",
    "\n",
    "for iBin, PtBin in enumerate(PtBins):\n",
    "    print(f'\\n\\033[94mStarting ML analysis --- {PtBin[0]} < pT < {PtBin[1]} GeV/c\\033[0m')\n",
    "\n",
    "    OutPutDirPt = os.path.join(os.path.expanduser(inputCfg['output']['dir']), f'pt{PtBin[0]}_{PtBin[1]}')\n",
    "    if os.path.isdir(OutPutDirPt):\n",
    "        print((f'\\033[93mWARNING: Output directory \\'{OutPutDirPt}\\' already exists,'\n",
    "                ' overwrites possibly ongoing!\\033[0m'))\n",
    "    else:\n",
    "        os.makedirs(OutPutDirPt)\n",
    "\n",
    "    # data preparation\n",
    "    #_____________________________________________\n",
    "    FDDfPt = pd.DataFrame() if FDHandler is None else FDHandler.get_slice(iBin)\n",
    "    TrainTestData, PromptDfSelForEff, FDDfSelForEff = data_prep(inputCfg, iBin, PtBin, OutPutDirPt,\n",
    "                                                                PromptHandler.get_slice(iBin), FDDfPt,\n",
    "                                                                BkgHandler.get_slice(iBin))"
   ]
  },
  {
   "cell_type": "code",
   "execution_count": null,
   "id": "81e951ff",
   "metadata": {},
   "outputs": [],
   "source": [
    "n_classes = len(np.unique(TrainTestData[3]))\n",
    "if n_classes==2:\n",
    "    out_dim=1\n",
    "else:\n",
    "    out_dim=n_classes\n",
    "TrainCols = inputCfg['ml']['training_columns']\n",
    "\n",
    "TrainFeatures = np.asarray(TrainTestData[0][TrainCols]).astype('float32').reshape((-1,len(TrainCols)))\n",
    "TrainLabels = np.asarray(TrainTestData[1]).astype('float32').reshape((-1,1))\n",
    "TestFeatures = np.asarray(TrainTestData[2][TrainCols]).astype('float32').reshape((-1,len(TrainCols)))\n",
    "TestLabels = np.asarray(TrainTestData[3]).astype('float32').reshape((-1,1))\n",
    "TrainFeatures, ValFeatures, TrainLabels, ValLabels = train_test_split(TrainFeatures, TrainLabels, test_size=0.2, random_state=42)\n",
    "print(ValLabels.shape)"
   ]
  },
  {
   "cell_type": "code",
   "execution_count": null,
   "id": "c093a59e",
   "metadata": {},
   "outputs": [],
   "source": [
    "Datasets = {'TrainFeatures' : TrainFeatures, 'TrainLabels' : TrainLabels,\n",
    "            'TestFeatures' : TestFeatures, 'TestLabels' : TestLabels,\n",
    "            'ValFeatures' : ValFeatures, 'ValLabels' : ValLabels}\n",
    "\n",
    "with open('/home/fchinu/DmesonAnalysis/ML/NN_Outputs/data/Dataset.p', 'wb') as handle:\n",
    "    pickle.dump(Datasets, handle, protocol=pickle.HIGHEST_PROTOCOL);"
   ]
  },
  {
   "attachments": {},
   "cell_type": "markdown",
   "id": "e9f97901",
   "metadata": {},
   "source": [
    "### Model Definition"
   ]
  },
  {
   "cell_type": "code",
   "execution_count": 2,
   "id": "c071367b",
   "metadata": {},
   "outputs": [],
   "source": [
    "def build_model(hp):\n",
    "    # CNN 1D\n",
    "    model = Sequential()\n",
    "    model.add(Dense(hp.Int(\"dense1\", 64,256, step = 2, sampling = \"log\"), activation='relu',input_dim=16))\n",
    "    model.add(Dense(hp.Int(\"dense2\", 64,256, step = 2, sampling = \"log\"), activation='relu'))\n",
    "    model.add(Dense(hp.Int(\"dense3\", 64,256, step = 2, sampling = \"log\"), activation='relu'))\n",
    "    model.add(Dense(hp.Int(\"dense4\", 64,256, step = 2, sampling = \"log\"), activation='relu'))\n",
    "    model.add(Dense(hp.Int(\"dense5\", 64,256, step = 2, sampling = \"log\"), activation='relu'))\n",
    "    model.add(Dense(hp.Int(\"dense6\", 64,256, step = 2, sampling = \"log\"), activation='relu'))\n",
    "    #model.add(Dense(hp.Int(\"dense3\", 16,1024, step = 2, sampling = \"log\"), activation='relu'))\n",
    "    #model.add(Dense(128, activation='relu'))\n",
    "    #model.add(Dense(128, activation='relu'))\n",
    "    #model.add(Dense(128, activation='relu'))\n",
    "    #model.add(Dense(hp.Int(\"dense5\", 4,256, step = 2, sampling = \"log\"), activation='relu'))\n",
    "    model.add(Dense(1, activation='sigmoid'))\n",
    "        \n",
    "        \n",
    "    \n",
    "    # Minimizer\n",
    "    optim = keras.optimizers.Adam(learning_rate = hp.Float(\"learning_rate\", 1e-4,1e-2, step = 5e-4, sampling = \"linear\"))\n",
    "\n",
    "    # Compile\n",
    "    model.compile(optimizer=optim, loss='binary_crossentropy', metrics=['accuracy'])\n",
    "    # Print summary\n",
    "    model.summary()\n",
    "    return model "
   ]
  },
  {
   "cell_type": "code",
   "execution_count": 3,
   "id": "4680f8c1",
   "metadata": {},
   "outputs": [],
   "source": [
    "stop_early = tf.keras.callbacks.EarlyStopping(monitor='val_loss', patience=15)"
   ]
  },
  {
   "attachments": {},
   "cell_type": "markdown",
   "id": "8647fd21",
   "metadata": {},
   "source": [
    "### Dataset extraction"
   ]
  },
  {
   "cell_type": "code",
   "execution_count": 4,
   "id": "9dc23320",
   "metadata": {},
   "outputs": [],
   "source": [
    "with open('/home/fchinu/DmesonAnalysis/ML/NN_Outputs/data/Dataset.p', 'rb') as handle:\n",
    "    Datasets = pickle.load(handle)\n",
    "    \n",
    "TrainFeatures = Datasets['TrainFeatures']\n",
    "TrainLabels = Datasets['TrainLabels']\n",
    "TestFeatures = Datasets['TestFeatures']\n",
    "TestLabels = Datasets['TestLabels']\n",
    "ValFeatures = Datasets['ValFeatures']\n",
    "ValLabels = Datasets['ValLabels']"
   ]
  },
  {
   "attachments": {},
   "cell_type": "markdown",
   "id": "fe8314ce",
   "metadata": {},
   "source": [
    "### Featrues scaling"
   ]
  },
  {
   "cell_type": "code",
   "execution_count": 5,
   "id": "acacc3f4",
   "metadata": {},
   "outputs": [],
   "source": [
    "TrainFeatures = preprocessing.StandardScaler().fit_transform(TrainFeatures) \n",
    "TestFeatures = preprocessing.StandardScaler().fit_transform(TestFeatures)\n",
    "ValFeatures = preprocessing.StandardScaler().fit_transform(ValFeatures)"
   ]
  },
  {
   "attachments": {},
   "cell_type": "markdown",
   "id": "032aa2c7",
   "metadata": {},
   "source": [
    "### Hyperparameters tuning"
   ]
  },
  {
   "cell_type": "code",
   "execution_count": 23,
   "id": "c497f509",
   "metadata": {},
   "outputs": [
    {
     "name": "stdout",
     "output_type": "stream",
     "text": [
      "Trial 27 Complete [00h 16m 37s]\n",
      "val_loss: 0.2737806737422943\n",
      "\n",
      "Best val_loss So Far: 0.21033935248851776\n",
      "Total elapsed time: 02h 28m 19s\n",
      "\n",
      "Search: Running Trial #28\n",
      "\n",
      "Value             |Best Value So Far |Hyperparameter\n",
      "128               |256               |dense1\n",
      "64                |256               |dense2\n",
      "64                |64                |dense3\n",
      "64                |128               |dense4\n",
      "256               |256               |dense5\n",
      "256               |128               |dense6\n",
      "0.0036            |0.0006            |learning_rate\n",
      "10                |10                |tuner/epochs\n",
      "0                 |4                 |tuner/initial_epoch\n",
      "0                 |2                 |tuner/bracket\n",
      "0                 |2                 |tuner/round\n",
      "\n",
      "Model: \"sequential\"\n",
      "_________________________________________________________________\n",
      " Layer (type)                Output Shape              Param #   \n",
      "=================================================================\n",
      " dense (Dense)               (None, 128)               2176      \n",
      "                                                                 \n",
      " dense_1 (Dense)             (None, 64)                8256      \n",
      "                                                                 \n",
      " dense_2 (Dense)             (None, 64)                4160      \n",
      "                                                                 \n",
      " dense_3 (Dense)             (None, 64)                4160      \n",
      "                                                                 \n",
      " dense_4 (Dense)             (None, 256)               16640     \n",
      "                                                                 \n",
      " dense_5 (Dense)             (None, 256)               65792     \n",
      "                                                                 \n",
      " dense_6 (Dense)             (None, 1)                 257       \n",
      "                                                                 \n",
      "=================================================================\n",
      "Total params: 101,441\n",
      "Trainable params: 101,441\n",
      "Non-trainable params: 0\n",
      "_________________________________________________________________\n",
      "Epoch 1/10\n",
      "50846/50846 [==============================] - 101s 2ms/step - loss: 0.2436 - accuracy: 0.9005 - val_loss: 0.2279 - val_accuracy: 0.9065\n",
      "Epoch 2/10\n",
      "50846/50846 [==============================] - 100s 2ms/step - loss: 0.2314 - accuracy: 0.9058 - val_loss: 0.2295 - val_accuracy: 0.9056\n",
      "Epoch 3/10\n",
      "50846/50846 [==============================] - 100s 2ms/step - loss: 0.2327 - accuracy: 0.9072 - val_loss: 0.2244 - val_accuracy: 0.9081\n",
      "Epoch 4/10\n",
      "50846/50846 [==============================] - 101s 2ms/step - loss: 0.2306 - accuracy: 0.9081 - val_loss: 0.2205 - val_accuracy: 0.9091\n",
      "Epoch 5/10\n",
      "50835/50846 [============================>.] - ETA: 0s - loss: 0.2359 - accuracy: 0.9051"
     ]
    }
   ],
   "source": [
    "tf.autograph.set_verbosity(0)\n",
    "#Hyperband: A Novel Bandit-Based Approach to Hyperparameter Optimization\" by Lisha Li et al. in 2018\n",
    "tuner = keras_tuner.Hyperband( \n",
    "    build_model,\n",
    "    project_name = 'NN',\n",
    "    objective = 'val_loss',\n",
    "    max_epochs = 10,\n",
    "    hyperband_iterations=2,\n",
    "    overwrite = True)\n",
    "   \n",
    "tuner.search(TrainFeatures, TrainLabels, epochs=5, validation_data=(ValFeatures, ValLabels), callbacks=[stop_early], workers=8, batch_size=20, use_multiprocessing = True)\n",
    "\n",
    "# Choose the best model\n",
    "modelList = tuner.get_best_models()\n",
    "model = modelList[0]"
   ]
  },
  {
   "cell_type": "code",
   "execution_count": null,
   "id": "93d09961",
   "metadata": {},
   "outputs": [],
   "source": [
    "tuner.get_best_hyperparameters()[0].values"
   ]
  },
  {
   "cell_type": "code",
   "execution_count": null,
   "id": "585aabe3",
   "metadata": {},
   "outputs": [],
   "source": [
    "final_hp_choice = keras_tuner.HyperParameters()\n",
    "\n",
    "final_hp_choice.Fixed('dense1'  , value = 256)\n",
    "final_hp_choice.Fixed('dense2'  , value = 256)\n",
    "final_hp_choice.Fixed('dense3'  , value = 64)\n",
    "final_hp_choice.Fixed('dense4'  , value = 128)\n",
    "final_hp_choice.Fixed('dense5'  , value = 256)\n",
    "final_hp_choice.Fixed('dense6'  , value = 128)\n",
    "final_hp_choice.Fixed('learning_rate', value = 0.0006)\n",
    "\n",
    "model = build_model(final_hp_choice)"
   ]
  },
  {
   "cell_type": "code",
   "execution_count": null,
   "id": "ef171f71",
   "metadata": {},
   "outputs": [],
   "source": [
    "visualkeras.layered_view(model, legend=True, draw_volume=True)"
   ]
  },
  {
   "cell_type": "code",
   "execution_count": null,
   "id": "7ea08dc2",
   "metadata": {},
   "outputs": [],
   "source": [
    "model_dict_hp = {'hyperparam_optimized_model': model};\n",
    "\n",
    "with open('/home/fchinu/DmesonAnalysis/ML/NN_Outputs/model/hyperParamOpt.p', 'wb') as handle:\n",
    "    pickle.dump(model_dict_hp, handle, protocol=pickle.HIGHEST_PROTOCOL);\n",
    "    \n",
    "model.save('/home/fchinu/DmesonAnalysis/ML/NN_Outputs/model/hpOptim');\n",
    "model.save_weights('/home/fchinu/DmesonAnalysis/ML/NN_Outputs/model/empty_weights.h5')"
   ]
  },
  {
   "attachments": {},
   "cell_type": "markdown",
   "id": "f82cb75e",
   "metadata": {},
   "source": [
    "### Model Training"
   ]
  },
  {
   "cell_type": "code",
   "execution_count": 10,
   "id": "91d7d32d",
   "metadata": {},
   "outputs": [],
   "source": [
    "def load_untrained_best_model():\n",
    "    final_hp_choice = keras_tuner.HyperParameters()\n",
    "\n",
    "    final_hp_choice.Fixed('dense1'  , value = 256)\n",
    "    final_hp_choice.Fixed('dense2'  , value = 256)\n",
    "    final_hp_choice.Fixed('dense3'  , value = 64)\n",
    "    final_hp_choice.Fixed('dense4'  , value = 128)\n",
    "    final_hp_choice.Fixed('dense5'  , value = 256)\n",
    "    final_hp_choice.Fixed('dense6'  , value = 128)\n",
    "    final_hp_choice.Fixed('learning_rate', value = 0.0006)\n",
    "\n",
    "    model = build_model(final_hp_choice)\n",
    "    #model.load_weights('/home/fchinu/DmesonAnalysis/ML/NN_Outputs/model/empty_weights.h5')\n",
    "    return model"
   ]
  },
  {
   "cell_type": "code",
   "execution_count": 11,
   "id": "0e70787d",
   "metadata": {},
   "outputs": [
    {
     "name": "stdout",
     "output_type": "stream",
     "text": [
      "Model: \"sequential_2\"\n",
      "_________________________________________________________________\n",
      " Layer (type)                Output Shape              Param #   \n",
      "=================================================================\n",
      " dense_14 (Dense)            (None, 256)               4352      \n",
      "                                                                 \n",
      " dense_15 (Dense)            (None, 256)               65792     \n",
      "                                                                 \n",
      " dense_16 (Dense)            (None, 64)                16448     \n",
      "                                                                 \n",
      " dense_17 (Dense)            (None, 128)               8320      \n",
      "                                                                 \n",
      " dense_18 (Dense)            (None, 256)               33024     \n",
      "                                                                 \n",
      " dense_19 (Dense)            (None, 128)               32896     \n",
      "                                                                 \n",
      " dense_20 (Dense)            (None, 1)                 129       \n",
      "                                                                 \n",
      "=================================================================\n",
      "Total params: 160,961\n",
      "Trainable params: 160,961\n",
      "Non-trainable params: 0\n",
      "_________________________________________________________________\n"
     ]
    },
    {
     "name": "stdout",
     "output_type": "stream",
     "text": [
      "Epoch 1/50\n",
      "50846/50846 [==============================] - 96s 2ms/step - loss: 0.2316 - accuracy: 0.9032 - val_loss: 0.2184 - val_accuracy: 0.9091\n",
      "Epoch 2/50\n",
      "50846/50846 [==============================] - 95s 2ms/step - loss: 0.2178 - accuracy: 0.9094 - val_loss: 0.2192 - val_accuracy: 0.9098\n",
      "Epoch 3/50\n",
      "50846/50846 [==============================] - 96s 2ms/step - loss: 0.2145 - accuracy: 0.9110 - val_loss: 0.2148 - val_accuracy: 0.9112\n",
      "Epoch 4/50\n",
      "50846/50846 [==============================] - 96s 2ms/step - loss: 0.2128 - accuracy: 0.9116 - val_loss: 0.2146 - val_accuracy: 0.9121\n",
      "Epoch 5/50\n",
      "50846/50846 [==============================] - 95s 2ms/step - loss: 0.2113 - accuracy: 0.9126 - val_loss: 0.2136 - val_accuracy: 0.9121\n",
      "Epoch 6/50\n",
      "50846/50846 [==============================] - 95s 2ms/step - loss: 0.2104 - accuracy: 0.9129 - val_loss: 0.2120 - val_accuracy: 0.9112\n",
      "Epoch 7/50\n",
      "50846/50846 [==============================] - 96s 2ms/step - loss: 0.2096 - accuracy: 0.9133 - val_loss: 0.2119 - val_accuracy: 0.9121\n",
      "Epoch 8/50\n",
      "50846/50846 [==============================] - 95s 2ms/step - loss: 0.2093 - accuracy: 0.9132 - val_loss: 0.2121 - val_accuracy: 0.9128\n",
      "Epoch 9/50\n",
      "50846/50846 [==============================] - 96s 2ms/step - loss: 0.2088 - accuracy: 0.9138 - val_loss: 0.2103 - val_accuracy: 0.9126\n",
      "Epoch 10/50\n",
      "50846/50846 [==============================] - 96s 2ms/step - loss: 0.2083 - accuracy: 0.9137 - val_loss: 0.2101 - val_accuracy: 0.9127\n",
      "Epoch 11/50\n",
      "50846/50846 [==============================] - 96s 2ms/step - loss: 0.2079 - accuracy: 0.9139 - val_loss: 0.2112 - val_accuracy: 0.9122\n",
      "Epoch 12/50\n",
      "50846/50846 [==============================] - 95s 2ms/step - loss: 0.2083 - accuracy: 0.9141 - val_loss: 0.2101 - val_accuracy: 0.9128\n",
      "Epoch 13/50\n",
      "50846/50846 [==============================] - 95s 2ms/step - loss: 0.2080 - accuracy: 0.9141 - val_loss: 0.2110 - val_accuracy: 0.9130\n",
      "Epoch 14/50\n",
      "50846/50846 [==============================] - 95s 2ms/step - loss: 0.2088 - accuracy: 0.9144 - val_loss: 0.2101 - val_accuracy: 0.9128\n",
      "Epoch 15/50\n",
      "50846/50846 [==============================] - 96s 2ms/step - loss: 0.2075 - accuracy: 0.9144 - val_loss: 0.2100 - val_accuracy: 0.9129\n",
      "Epoch 16/50\n",
      "50846/50846 [==============================] - 95s 2ms/step - loss: 0.2069 - accuracy: 0.9145 - val_loss: 0.2103 - val_accuracy: 0.9130\n",
      "Epoch 17/50\n",
      "50846/50846 [==============================] - 96s 2ms/step - loss: 0.2070 - accuracy: 0.9145 - val_loss: 0.2109 - val_accuracy: 0.9128\n",
      "Epoch 18/50\n",
      "50846/50846 [==============================] - 95s 2ms/step - loss: 0.2068 - accuracy: 0.9145 - val_loss: 0.2104 - val_accuracy: 0.9100\n",
      "Epoch 19/50\n",
      "50846/50846 [==============================] - 95s 2ms/step - loss: 0.2063 - accuracy: 0.9146 - val_loss: 0.2176 - val_accuracy: 0.9128\n",
      "Epoch 20/50\n",
      "50846/50846 [==============================] - 95s 2ms/step - loss: 0.2083 - accuracy: 0.9147 - val_loss: 0.2114 - val_accuracy: 0.9119\n",
      "Epoch 21/50\n",
      "50846/50846 [==============================] - 95s 2ms/step - loss: 0.2073 - accuracy: 0.9148 - val_loss: 0.2098 - val_accuracy: 0.9129\n",
      "Epoch 22/50\n",
      "50846/50846 [==============================] - 96s 2ms/step - loss: 0.2079 - accuracy: 0.9149 - val_loss: 0.2095 - val_accuracy: 0.9128\n",
      "Epoch 23/50\n",
      "50846/50846 [==============================] - 96s 2ms/step - loss: 0.2072 - accuracy: 0.9149 - val_loss: 0.2118 - val_accuracy: 0.9129\n",
      "Epoch 24/50\n",
      "50846/50846 [==============================] - 96s 2ms/step - loss: 0.2065 - accuracy: 0.9148 - val_loss: 0.2121 - val_accuracy: 0.9132\n",
      "Epoch 25/50\n",
      "50846/50846 [==============================] - 95s 2ms/step - loss: 0.2069 - accuracy: 0.9149 - val_loss: 0.2176 - val_accuracy: 0.9107\n",
      "Epoch 26/50\n",
      "50846/50846 [==============================] - 95s 2ms/step - loss: 0.2077 - accuracy: 0.9151 - val_loss: 0.2109 - val_accuracy: 0.9129\n",
      "Epoch 27/50\n",
      "50846/50846 [==============================] - 96s 2ms/step - loss: 0.2064 - accuracy: 0.9150 - val_loss: 0.2119 - val_accuracy: 0.9123\n",
      "Epoch 28/50\n",
      "50846/50846 [==============================] - 96s 2ms/step - loss: 0.2119 - accuracy: 0.9149 - val_loss: 0.2165 - val_accuracy: 0.9116\n",
      "Epoch 29/50\n",
      "50846/50846 [==============================] - 95s 2ms/step - loss: 0.2105 - accuracy: 0.9150 - val_loss: 0.2173 - val_accuracy: 0.9126\n",
      "Epoch 30/50\n",
      "50846/50846 [==============================] - 96s 2ms/step - loss: 0.2090 - accuracy: 0.9150 - val_loss: 0.2135 - val_accuracy: 0.9132\n",
      "Epoch 31/50\n",
      "50846/50846 [==============================] - 95s 2ms/step - loss: 0.2148 - accuracy: 0.9152 - val_loss: 0.2115 - val_accuracy: 0.9131\n",
      "Epoch 32/50\n",
      "50846/50846 [==============================] - 95s 2ms/step - loss: 0.2084 - accuracy: 0.9151 - val_loss: 0.2100 - val_accuracy: 0.9130\n",
      "Epoch 33/50\n",
      "50846/50846 [==============================] - 95s 2ms/step - loss: 0.2093 - accuracy: 0.9153 - val_loss: 0.2198 - val_accuracy: 0.9119\n",
      "Epoch 34/50\n",
      "50846/50846 [==============================] - 96s 2ms/step - loss: 0.2081 - accuracy: 0.9152 - val_loss: 0.2132 - val_accuracy: 0.9127\n",
      "Epoch 35/50\n",
      "50846/50846 [==============================] - 96s 2ms/step - loss: 0.2070 - accuracy: 0.9153 - val_loss: 0.2251 - val_accuracy: 0.9130\n",
      "Epoch 36/50\n",
      "50846/50846 [==============================] - 96s 2ms/step - loss: 0.2105 - accuracy: 0.9152 - val_loss: 0.2205 - val_accuracy: 0.9093\n",
      "Epoch 37/50\n",
      "50846/50846 [==============================] - 95s 2ms/step - loss: 0.2110 - accuracy: 0.9153 - val_loss: 0.2210 - val_accuracy: 0.9126\n"
     ]
    }
   ],
   "source": [
    "tf.autograph.set_verbosity(0, False)\n",
    "model = load_untrained_best_model()\n",
    "\n",
    "# Start the training process\n",
    "history = model.fit(TrainFeatures, TrainLabels, validation_data=(ValFeatures, ValLabels), epochs=50, batch_size=20, callbacks = [stop_early])\n",
    "model.save_weights('/home/fchinu/DmesonAnalysis/ML/NN_Outputs/model/fullTraining.h5')"
   ]
  },
  {
   "cell_type": "code",
   "execution_count": 12,
   "id": "22f9b985",
   "metadata": {},
   "outputs": [
    {
     "data": {
      "image/png": "[encoded data removed]",
      "text/plain": [
       "<Figure size 432x288 with 1 Axes>"
      ]
     },
     "metadata": {
      "needs_background": "light"
     },
     "output_type": "display_data"
    }
   ],
   "source": [
    "plt.plot(history.history['loss'], label='Training Loss')\n",
    "plt.plot(history.history['val_loss'], label='Validation Loss')\n",
    "plt.xlabel('Epochs')\n",
    "plt.ylabel('Loss')\n",
    "plt.legend()\n",
    "plt.show()"
   ]
  },
  {
   "cell_type": "code",
   "execution_count": 13,
   "id": "7ecd2f7a",
   "metadata": {},
   "outputs": [
    {
     "data": {
      "image/png": "[encoded data removed]",
      "text/plain": [
       "<Figure size 432x288 with 1 Axes>"
      ]
     },
     "metadata": {
      "needs_background": "light"
     },
     "output_type": "display_data"
    }
   ],
   "source": [
    "plt.plot(history.history['accuracy'])\n",
    "plt.plot(history.history['val_accuracy'])\n",
    "plt.title('model accuracy')\n",
    "plt.ylabel('accuracy')\n",
    "plt.xlabel('epoch')\n",
    "plt.legend(['train', 'validation'], loc='upper left')\n",
    "plt.show()"
   ]
  },
  {
   "attachments": {},
   "cell_type": "markdown",
   "id": "f108b8b9",
   "metadata": {},
   "source": [
    "### Model evaluation on the test set"
   ]
  },
  {
   "cell_type": "code",
   "execution_count": 14,
   "id": "2066396f",
   "metadata": {},
   "outputs": [
    {
     "name": "stdout",
     "output_type": "stream",
     "text": [
      "   1/9931 [..............................] - ETA: 4:34 - loss: 0.4069 - accuracy: 0.8125"
     ]
    },
    {
     "name": "stdout",
     "output_type": "stream",
     "text": [
      "9931/9931 [==============================] - 11s 1ms/step - loss: 0.2238 - accuracy: 0.9127\n",
      "Test score: 0.2237953394651413\n",
      "Test accuracy: 0.912749707698822\n"
     ]
    }
   ],
   "source": [
    "score, acc = model.evaluate(TestFeatures, TestLabels)\n",
    "print('Test score:', score)\n",
    "print('Test accuracy:', acc)"
   ]
  },
  {
   "attachments": {},
   "cell_type": "markdown",
   "id": "d1dcaf07",
   "metadata": {},
   "source": [
    "### ROC curves"
   ]
  },
  {
   "cell_type": "code",
   "execution_count": 15,
   "id": "c538a29c",
   "metadata": {},
   "outputs": [
    {
     "name": "stdout",
     "output_type": "stream",
     "text": [
      "31779/31779 [==============================] - 22s 701us/step\n",
      "9931/9931 [==============================] - 7s 706us/step\n",
      "Train ROC AUC 0.9730783506073815\n",
      "Test ROC AUC 0.971234774310306\n"
     ]
    }
   ],
   "source": [
    "model.load_weights('/home/fchinu/DmesonAnalysis/ML/NN_Outputs/model/fullTraining.h5')\n",
    "TrainPredicted = model.predict(TrainFeatures)\n",
    "Trainfpr, Traintpr, Trainthresholds = roc_curve(TrainLabels, TrainPredicted, pos_label=1)\n",
    "TestPredicted = model.predict(TestFeatures)\n",
    "Testfpr, Testtpr, Testthresholds = roc_curve(TestLabels, TestPredicted, pos_label=1)\n",
    "print('Train ROC AUC', roc_auc_score(TrainLabels, TrainPredicted))\n",
    "print('Test ROC AUC', roc_auc_score(TestLabels, TestPredicted))"
   ]
  },
  {
   "cell_type": "code",
   "execution_count": 20,
   "id": "376c1371",
   "metadata": {},
   "outputs": [
    {
     "data": {
      "text/plain": [
       "[<matplotlib.lines.Line2D at 0x7f8e564b12b0>]"
      ]
     },
     "execution_count": 20,
     "metadata": {},
     "output_type": "execute_result"
    },
    {
     "data": {
      "image/png": "[encoded data removed]",
      "text/plain": [
       "<Figure size 432x288 with 1 Axes>"
      ]
     },
     "metadata": {
      "needs_background": "light"
     },
     "output_type": "display_data"
    }
   ],
   "source": [
    "plt.plot(Trainfpr, Traintpr, label='train')\n",
    "plt.plot(Testfpr, Testtpr, label='test')\n"
   ]
  },
  {
   "cell_type": "code",
   "execution_count": null,
   "id": "6ccc7cef",
   "metadata": {},
   "outputs": [],
   "source": []
  }
 ],
 "metadata": {
  "kernelspec": {
   "display_name": "ml",
   "language": "python",
   "name": "ml"
  },
  "language_info": {
   "codemirror_mode": {
    "name": "ipython",
    "version": 3
   },
   "file_extension": ".py",
   "mimetype": "text/x-python",
   "name": "python",
   "nbconvert_exporter": "python",
   "pygments_lexer": "ipython3",
   "version": "3.8.10"
  }
 },
 "nbformat": 4,
 "nbformat_minor": 5
}
